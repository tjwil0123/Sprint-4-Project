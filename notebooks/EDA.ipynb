{
 "cells": [
  {
   "metadata": {},
   "cell_type": "markdown",
   "source": "In this pre-processing project we will be cleaning up and enhancing the dataframe to get it prepared for its use in the web app, then writing the code for streamlit.",
   "id": "e23ae3a4d3f9e6e4"
  },
  {
   "cell_type": "code",
   "id": "initial_id",
   "metadata": {
    "collapsed": true,
    "ExecuteTime": {
     "end_time": "2024-07-31T00:16:23.047771Z",
     "start_time": "2024-07-31T00:16:23.037717Z"
    }
   },
   "source": [
    "#import packages\n",
    "import pandas as pd\n",
    "import numpy as np\n",
    "import plotly.express as px\n",
    "import streamlit as st\n",
    "import altair as alt"
   ],
   "outputs": [],
   "execution_count": 53
  },
  {
   "metadata": {
    "ExecuteTime": {
     "end_time": "2024-07-31T00:16:23.286156Z",
     "start_time": "2024-07-31T00:16:23.120782Z"
    }
   },
   "cell_type": "code",
   "source": [
    "# read CSV\n",
    "vehicles_df = pd.read_csv('C:/Users/Tyler Wilson/Desktop/Sprint-4-Project/vehicles_us.csv')"
   ],
   "id": "90ad52a00fe6b966",
   "outputs": [],
   "execution_count": 54
  },
  {
   "metadata": {
    "ExecuteTime": {
     "end_time": "2024-07-31T00:16:23.346637Z",
     "start_time": "2024-07-31T00:16:23.289168Z"
    }
   },
   "cell_type": "code",
   "source": [
    "# overviewing data\n",
    "vehicles_df.info()\n",
    "vehicles_df.sample(10)"
   ],
   "id": "e3a17e04d062a304",
   "outputs": [
    {
     "name": "stdout",
     "output_type": "stream",
     "text": [
      "<class 'pandas.core.frame.DataFrame'>\n",
      "RangeIndex: 51525 entries, 0 to 51524\n",
      "Data columns (total 13 columns):\n",
      " #   Column        Non-Null Count  Dtype  \n",
      "---  ------        --------------  -----  \n",
      " 0   price         51525 non-null  int64  \n",
      " 1   model_year    47906 non-null  float64\n",
      " 2   model         51525 non-null  object \n",
      " 3   condition     51525 non-null  object \n",
      " 4   cylinders     46265 non-null  float64\n",
      " 5   fuel          51525 non-null  object \n",
      " 6   odometer      43633 non-null  float64\n",
      " 7   transmission  51525 non-null  object \n",
      " 8   type          51525 non-null  object \n",
      " 9   paint_color   42258 non-null  object \n",
      " 10  is_4wd        25572 non-null  float64\n",
      " 11  date_posted   51525 non-null  object \n",
      " 12  days_listed   51525 non-null  int64  \n",
      "dtypes: float64(4), int64(2), object(7)\n",
      "memory usage: 5.1+ MB\n"
     ]
    },
    {
     "data": {
      "text/plain": [
       "       price  model_year                    model  condition  cylinders fuel  \\\n",
       "2491   22995      2012.0  jeep wrangler unlimited       good        6.0  gas   \n",
       "21400   8500         NaN           toyota corolla  excellent        4.0  gas   \n",
       "24581  16199      2010.0          chevrolet tahoe   like new        8.0  gas   \n",
       "42280   7000         NaN      chevrolet silverado   like new        8.0  gas   \n",
       "26137   9995      2003.0               ford f-150  excellent        8.0  gas   \n",
       "31665   4899      2004.0            ford focus se  excellent        4.0  gas   \n",
       "30761  16995      2011.0              toyota rav4  excellent        4.0  gas   \n",
       "11105   5900      2014.0             chrysler 200  excellent        4.0  gas   \n",
       "27377  25900      2015.0            toyota tacoma       good        6.0  gas   \n",
       "25778   8995      2013.0         chevrolet camaro       good        6.0  gas   \n",
       "\n",
       "       odometer transmission   type paint_color  is_4wd date_posted  \\\n",
       "2491   153680.0    automatic    SUV      silver     1.0  2018-11-25   \n",
       "21400   70200.0    automatic  other       black     NaN  2018-12-20   \n",
       "24581  104800.0    automatic    SUV        grey     1.0  2019-02-11   \n",
       "42280  180000.0    automatic  truck         red     1.0  2018-05-24   \n",
       "26137  137302.0    automatic  truck       white     1.0  2018-06-23   \n",
       "31665   88472.0    automatic  sedan       black     NaN  2018-07-15   \n",
       "30761   66000.0    automatic    SUV      silver     1.0  2018-10-23   \n",
       "11105  148272.0    automatic  sedan         red     NaN  2018-05-30   \n",
       "27377   74379.0    automatic  truck      silver     1.0  2018-10-03   \n",
       "25778  179366.0    automatic  coupe         NaN     NaN  2018-12-10   \n",
       "\n",
       "       days_listed  \n",
       "2491            42  \n",
       "21400           35  \n",
       "24581           52  \n",
       "42280           16  \n",
       "26137           83  \n",
       "31665           37  \n",
       "30761           42  \n",
       "11105           68  \n",
       "27377           36  \n",
       "25778           12  "
      ],
      "text/html": [
       "<div>\n",
       "<style scoped>\n",
       "    .dataframe tbody tr th:only-of-type {\n",
       "        vertical-align: middle;\n",
       "    }\n",
       "\n",
       "    .dataframe tbody tr th {\n",
       "        vertical-align: top;\n",
       "    }\n",
       "\n",
       "    .dataframe thead th {\n",
       "        text-align: right;\n",
       "    }\n",
       "</style>\n",
       "<table border=\"1\" class=\"dataframe\">\n",
       "  <thead>\n",
       "    <tr style=\"text-align: right;\">\n",
       "      <th></th>\n",
       "      <th>price</th>\n",
       "      <th>model_year</th>\n",
       "      <th>model</th>\n",
       "      <th>condition</th>\n",
       "      <th>cylinders</th>\n",
       "      <th>fuel</th>\n",
       "      <th>odometer</th>\n",
       "      <th>transmission</th>\n",
       "      <th>type</th>\n",
       "      <th>paint_color</th>\n",
       "      <th>is_4wd</th>\n",
       "      <th>date_posted</th>\n",
       "      <th>days_listed</th>\n",
       "    </tr>\n",
       "  </thead>\n",
       "  <tbody>\n",
       "    <tr>\n",
       "      <th>2491</th>\n",
       "      <td>22995</td>\n",
       "      <td>2012.0</td>\n",
       "      <td>jeep wrangler unlimited</td>\n",
       "      <td>good</td>\n",
       "      <td>6.0</td>\n",
       "      <td>gas</td>\n",
       "      <td>153680.0</td>\n",
       "      <td>automatic</td>\n",
       "      <td>SUV</td>\n",
       "      <td>silver</td>\n",
       "      <td>1.0</td>\n",
       "      <td>2018-11-25</td>\n",
       "      <td>42</td>\n",
       "    </tr>\n",
       "    <tr>\n",
       "      <th>21400</th>\n",
       "      <td>8500</td>\n",
       "      <td>NaN</td>\n",
       "      <td>toyota corolla</td>\n",
       "      <td>excellent</td>\n",
       "      <td>4.0</td>\n",
       "      <td>gas</td>\n",
       "      <td>70200.0</td>\n",
       "      <td>automatic</td>\n",
       "      <td>other</td>\n",
       "      <td>black</td>\n",
       "      <td>NaN</td>\n",
       "      <td>2018-12-20</td>\n",
       "      <td>35</td>\n",
       "    </tr>\n",
       "    <tr>\n",
       "      <th>24581</th>\n",
       "      <td>16199</td>\n",
       "      <td>2010.0</td>\n",
       "      <td>chevrolet tahoe</td>\n",
       "      <td>like new</td>\n",
       "      <td>8.0</td>\n",
       "      <td>gas</td>\n",
       "      <td>104800.0</td>\n",
       "      <td>automatic</td>\n",
       "      <td>SUV</td>\n",
       "      <td>grey</td>\n",
       "      <td>1.0</td>\n",
       "      <td>2019-02-11</td>\n",
       "      <td>52</td>\n",
       "    </tr>\n",
       "    <tr>\n",
       "      <th>42280</th>\n",
       "      <td>7000</td>\n",
       "      <td>NaN</td>\n",
       "      <td>chevrolet silverado</td>\n",
       "      <td>like new</td>\n",
       "      <td>8.0</td>\n",
       "      <td>gas</td>\n",
       "      <td>180000.0</td>\n",
       "      <td>automatic</td>\n",
       "      <td>truck</td>\n",
       "      <td>red</td>\n",
       "      <td>1.0</td>\n",
       "      <td>2018-05-24</td>\n",
       "      <td>16</td>\n",
       "    </tr>\n",
       "    <tr>\n",
       "      <th>26137</th>\n",
       "      <td>9995</td>\n",
       "      <td>2003.0</td>\n",
       "      <td>ford f-150</td>\n",
       "      <td>excellent</td>\n",
       "      <td>8.0</td>\n",
       "      <td>gas</td>\n",
       "      <td>137302.0</td>\n",
       "      <td>automatic</td>\n",
       "      <td>truck</td>\n",
       "      <td>white</td>\n",
       "      <td>1.0</td>\n",
       "      <td>2018-06-23</td>\n",
       "      <td>83</td>\n",
       "    </tr>\n",
       "    <tr>\n",
       "      <th>31665</th>\n",
       "      <td>4899</td>\n",
       "      <td>2004.0</td>\n",
       "      <td>ford focus se</td>\n",
       "      <td>excellent</td>\n",
       "      <td>4.0</td>\n",
       "      <td>gas</td>\n",
       "      <td>88472.0</td>\n",
       "      <td>automatic</td>\n",
       "      <td>sedan</td>\n",
       "      <td>black</td>\n",
       "      <td>NaN</td>\n",
       "      <td>2018-07-15</td>\n",
       "      <td>37</td>\n",
       "    </tr>\n",
       "    <tr>\n",
       "      <th>30761</th>\n",
       "      <td>16995</td>\n",
       "      <td>2011.0</td>\n",
       "      <td>toyota rav4</td>\n",
       "      <td>excellent</td>\n",
       "      <td>4.0</td>\n",
       "      <td>gas</td>\n",
       "      <td>66000.0</td>\n",
       "      <td>automatic</td>\n",
       "      <td>SUV</td>\n",
       "      <td>silver</td>\n",
       "      <td>1.0</td>\n",
       "      <td>2018-10-23</td>\n",
       "      <td>42</td>\n",
       "    </tr>\n",
       "    <tr>\n",
       "      <th>11105</th>\n",
       "      <td>5900</td>\n",
       "      <td>2014.0</td>\n",
       "      <td>chrysler 200</td>\n",
       "      <td>excellent</td>\n",
       "      <td>4.0</td>\n",
       "      <td>gas</td>\n",
       "      <td>148272.0</td>\n",
       "      <td>automatic</td>\n",
       "      <td>sedan</td>\n",
       "      <td>red</td>\n",
       "      <td>NaN</td>\n",
       "      <td>2018-05-30</td>\n",
       "      <td>68</td>\n",
       "    </tr>\n",
       "    <tr>\n",
       "      <th>27377</th>\n",
       "      <td>25900</td>\n",
       "      <td>2015.0</td>\n",
       "      <td>toyota tacoma</td>\n",
       "      <td>good</td>\n",
       "      <td>6.0</td>\n",
       "      <td>gas</td>\n",
       "      <td>74379.0</td>\n",
       "      <td>automatic</td>\n",
       "      <td>truck</td>\n",
       "      <td>silver</td>\n",
       "      <td>1.0</td>\n",
       "      <td>2018-10-03</td>\n",
       "      <td>36</td>\n",
       "    </tr>\n",
       "    <tr>\n",
       "      <th>25778</th>\n",
       "      <td>8995</td>\n",
       "      <td>2013.0</td>\n",
       "      <td>chevrolet camaro</td>\n",
       "      <td>good</td>\n",
       "      <td>6.0</td>\n",
       "      <td>gas</td>\n",
       "      <td>179366.0</td>\n",
       "      <td>automatic</td>\n",
       "      <td>coupe</td>\n",
       "      <td>NaN</td>\n",
       "      <td>NaN</td>\n",
       "      <td>2018-12-10</td>\n",
       "      <td>12</td>\n",
       "    </tr>\n",
       "  </tbody>\n",
       "</table>\n",
       "</div>"
      ]
     },
     "execution_count": 55,
     "metadata": {},
     "output_type": "execute_result"
    }
   ],
   "execution_count": 55
  },
  {
   "metadata": {
    "ExecuteTime": {
     "end_time": "2024-07-31T00:16:23.405176Z",
     "start_time": "2024-07-31T00:16:23.348647Z"
    }
   },
   "cell_type": "code",
   "source": [
    "# check for duplicate rows\n",
    "print(vehicles_df.duplicated().sum())"
   ],
   "id": "9ae2655d2afcbfdd",
   "outputs": [
    {
     "name": "stdout",
     "output_type": "stream",
     "text": [
      "0\n"
     ]
    }
   ],
   "execution_count": 56
  },
  {
   "metadata": {},
   "cell_type": "markdown",
   "source": "There are a lot of missing values in the dataframe. Let's take care of those.",
   "id": "4b88984a2620c06c"
  },
  {
   "metadata": {
    "ExecuteTime": {
     "end_time": "2024-07-31T00:16:23.416616Z",
     "start_time": "2024-07-31T00:16:23.407186Z"
    }
   },
   "cell_type": "code",
   "source": [
    "# assuming that the NaN values in the 'is_4wd' column mean that the vehicle is not a 4-wheel drive, let's replace them with a 0.\n",
    "vehicles_df['is_4wd'] = vehicles_df['is_4wd'].fillna(0)\n"
   ],
   "id": "a8b124294c7afe44",
   "outputs": [],
   "execution_count": 57
  },
  {
   "metadata": {
    "ExecuteTime": {
     "end_time": "2024-07-31T00:16:24.247939Z",
     "start_time": "2024-07-31T00:16:23.420671Z"
    }
   },
   "cell_type": "code",
   "source": [
    "# calculate median model year for each model\n",
    "model_medians = vehicles_df.groupby('model')['model_year'].median()\n",
    "\n",
    "# function to fill missing model_year\n",
    "def fill_model_year(row):\n",
    "    if np.isnan(row['model_year']):\n",
    "        return model_medians[row['model']]\n",
    "    return row['model_year']\n",
    "\n",
    "# apply the function to fill missing values\n",
    "vehicles_df['model_year'] = vehicles_df.apply(fill_model_year, axis=1)"
   ],
   "id": "ec9768103b7ae9bb",
   "outputs": [],
   "execution_count": 58
  },
  {
   "metadata": {
    "ExecuteTime": {
     "end_time": "2024-07-31T00:16:24.870800Z",
     "start_time": "2024-07-31T00:16:24.248949Z"
    }
   },
   "cell_type": "code",
   "source": [
    "# calculate median cylinder count for each model\n",
    "cylinder_medians = vehicles_df.groupby('model')['cylinders'].median()\n",
    "\n",
    "# function to fill missing cylinders\n",
    "def fill_cylinders(row):\n",
    "    if np.isnan(row['cylinders']):\n",
    "        return cylinder_medians[row['model']]\n",
    "    return row['cylinders']\n",
    "\n",
    "# apply the function to fill missing values\n",
    "vehicles_df['cylinders'] = vehicles_df.apply(fill_cylinders, axis=1)"
   ],
   "id": "bba32c00a14f9429",
   "outputs": [],
   "execution_count": 59
  },
  {
   "metadata": {
    "ExecuteTime": {
     "end_time": "2024-07-31T00:16:25.496148Z",
     "start_time": "2024-07-31T00:16:24.872809Z"
    }
   },
   "cell_type": "code",
   "source": [
    "# calculate median cylinder count for each model\n",
    "odometer_medians = vehicles_df.groupby('model')['odometer'].median()\n",
    "\n",
    "# function to fill missing cylinders\n",
    "def fill_odometer(row):\n",
    "    if np.isnan(row['odometer']):\n",
    "        return odometer_medians[row['model']]\n",
    "    return row['odometer']\n",
    "\n",
    "# apply the function to fill missing values\n",
    "vehicles_df['odometer'] = vehicles_df.apply(fill_odometer, axis=1)"
   ],
   "id": "e491c7c449060f1d",
   "outputs": [],
   "execution_count": 60
  },
  {
   "metadata": {
    "ExecuteTime": {
     "end_time": "2024-07-31T00:16:25.536128Z",
     "start_time": "2024-07-31T00:16:25.498160Z"
    }
   },
   "cell_type": "code",
   "source": [
    "# drop the rest of the rows with missing values\n",
    "vehicles_df = vehicles_df.dropna().reset_index(drop=True)"
   ],
   "id": "3ef905d0d8f99153",
   "outputs": [],
   "execution_count": 61
  },
  {
   "metadata": {},
   "cell_type": "markdown",
   "source": "Let's add enhancements to the dataframe to make it easier to work with and clean it up before perparing the web app.",
   "id": "d71fd9c4b921b9b8"
  },
  {
   "metadata": {
    "ExecuteTime": {
     "end_time": "2024-07-31T00:16:25.565533Z",
     "start_time": "2024-07-31T00:16:25.538140Z"
    }
   },
   "cell_type": "code",
   "source": [
    "# convert float64 columns to int64\n",
    "vehicles_df['model_year'] = vehicles_df['model_year'].astype('int64')\n",
    "vehicles_df['cylinders'] = vehicles_df['cylinders'].astype('int64')\n",
    "vehicles_df['odometer'] = vehicles_df['odometer'].astype('int64')\n",
    "vehicles_df['is_4wd'] = vehicles_df['is_4wd'].astype('int64')\n",
    "\n",
    "# convert 'date_posted' column to datetime\n",
    "vehicles_df['date_posted'] = pd.to_datetime(vehicles_df['date_posted'])\n"
   ],
   "id": "77b10152989f3682",
   "outputs": [],
   "execution_count": 62
  },
  {
   "metadata": {
    "ExecuteTime": {
     "end_time": "2024-07-31T00:16:25.597019Z",
     "start_time": "2024-07-31T00:16:25.567541Z"
    }
   },
   "cell_type": "code",
   "source": [
    "# calculate IQR for 'model_year' and 'price', then define boundaries\n",
    "Q1_model_year = vehicles_df['model_year'].quantile(0.25)\n",
    "Q3_model_year = vehicles_df['model_year'].quantile(0.75)\n",
    "IQR_model_year = Q3_model_year - Q1_model_year\n",
    "\n",
    "lower_bound_model_year = Q1_model_year - 1.5 * IQR_model_year\n",
    "upper_bound_model_year = Q3_model_year + 1.5 * IQR_model_year\n",
    "\n",
    "Q1_price = vehicles_df['price'].quantile(0.25)\n",
    "Q3_price = vehicles_df['price'].quantile(0.75)\n",
    "IQR_price = Q3_price - Q1_price\n",
    "\n",
    "lower_bound_price = Q1_price - 1.5 * IQR_price\n",
    "upper_bound_price = Q3_price + 1.5 * IQR_price\n",
    "\n",
    "# filter outliers\n",
    "vehicles_df_filtered = vehicles_df[\n",
    "    (vehicles_df['model_year'] >= lower_bound_model_year) &\n",
    "    (vehicles_df['model_year'] <= upper_bound_model_year) &\n",
    "    (vehicles_df['price'] >= lower_bound_price) &\n",
    "    (vehicles_df['price'] <= upper_bound_price)\n",
    "]"
   ],
   "id": "f2e92feb0a4c4ded",
   "outputs": [],
   "execution_count": 63
  },
  {
   "metadata": {
    "ExecuteTime": {
     "end_time": "2024-07-31T00:16:25.872273Z",
     "start_time": "2024-07-31T00:16:25.599030Z"
    }
   },
   "cell_type": "code",
   "source": "vehicles_df.to_csv('cleaned_vehicles.csv')",
   "id": "d965401025bface8",
   "outputs": [],
   "execution_count": 64
  },
  {
   "metadata": {},
   "cell_type": "markdown",
   "source": "Now that the dataframe is cleaned, let's write the code for the web app.",
   "id": "99e311afdb39f1b6"
  },
  {
   "metadata": {
    "ExecuteTime": {
     "end_time": "2024-07-31T00:16:26.082761Z",
     "start_time": "2024-07-31T00:16:25.874281Z"
    }
   },
   "cell_type": "code",
   "source": [
    "# set title\n",
    "st.title('Vehicle Data Analysis')\n",
    "\n",
    "# make scatter plot\n",
    "st.header('Price vs Odometer Value')\n",
    "\n",
    "# set checkbox\n",
    "show_condition_color = st.checkbox('Color by Condition')\n",
    "\n",
    "if show_condition_color:\n",
    "    scatter_fig = px.scatter(vehicles_df, x='odometer', y='price', color='condition',\n",
    "                             title='Price vs Odometer Value (Colored by Condition)',\n",
    "                             labels={'odometer': 'Odometer (miles)', 'price': 'Price (USD)', 'condition': 'Condition'})\n",
    "else:\n",
    "    scatter_fig = px.scatter(vehicles_df, x='odometer', y='price',\n",
    "                             title='Price vs Odometer Value',\n",
    "                             labels={'odometer': 'Odometer (miles)', 'price': 'Price (USD)'})\n",
    "\n",
    "st.plotly_chart(scatter_fig)\n",
    "\n",
    "# make histogram\n",
    "st.header('Distribution of Vehicle Conditions')\n",
    "\n",
    "hist_fig = px.histogram(vehicles_df, x='condition', title='Vehicle Condition Distribution',\n",
    "                        labels={'condition': 'Condition', 'count': 'Count'})\n",
    "\n",
    "st.plotly_chart(hist_fig)"
   ],
   "id": "953364259688606a",
   "outputs": [
    {
     "data": {
      "text/plain": [
       "DeltaGenerator()"
      ]
     },
     "execution_count": 65,
     "metadata": {},
     "output_type": "execute_result"
    }
   ],
   "execution_count": 65
  }
 ],
 "metadata": {
  "kernelspec": {
   "display_name": "Python 3",
   "language": "python",
   "name": "python3"
  },
  "language_info": {
   "codemirror_mode": {
    "name": "ipython",
    "version": 2
   },
   "file_extension": ".py",
   "mimetype": "text/x-python",
   "name": "python",
   "nbconvert_exporter": "python",
   "pygments_lexer": "ipython2",
   "version": "2.7.6"
  }
 },
 "nbformat": 4,
 "nbformat_minor": 5
}
