{
 "cells": [
  {
   "cell_type": "code",
   "id": "initial_id",
   "metadata": {
    "collapsed": true,
    "ExecuteTime": {
     "end_time": "2024-07-26T01:45:49.933469Z",
     "start_time": "2024-07-26T01:45:49.912169Z"
    }
   },
   "source": [
    "import pandas as pd\n",
    "import numpy as np\n",
    "import altair as alt\n",
    "import streamlit as st\n",
    "import plotly.express as px"
   ],
   "outputs": [],
   "execution_count": 23
  },
  {
   "metadata": {
    "ExecuteTime": {
     "end_time": "2024-07-26T01:45:50.163339Z",
     "start_time": "2024-07-26T01:45:49.936479Z"
    }
   },
   "cell_type": "code",
   "source": "vehicles_df = pd.read_csv('C:/Users/Tyler Wilson/Desktop/Sprint-4-Project/vehicles_us.csv')",
   "id": "90ad52a00fe6b966",
   "outputs": [],
   "execution_count": 24
  },
  {
   "metadata": {
    "ExecuteTime": {
     "end_time": "2024-07-26T01:45:50.210428Z",
     "start_time": "2024-07-26T01:45:50.165349Z"
    }
   },
   "cell_type": "code",
   "source": [
    "# overviewing data\n",
    "vehicles_df.info()\n",
    "vehicles_df.sample(10)"
   ],
   "id": "e3a17e04d062a304",
   "outputs": [
    {
     "name": "stdout",
     "output_type": "stream",
     "text": [
      "<class 'pandas.core.frame.DataFrame'>\n",
      "RangeIndex: 51525 entries, 0 to 51524\n",
      "Data columns (total 13 columns):\n",
      " #   Column        Non-Null Count  Dtype  \n",
      "---  ------        --------------  -----  \n",
      " 0   price         51525 non-null  int64  \n",
      " 1   model_year    47906 non-null  float64\n",
      " 2   model         51525 non-null  object \n",
      " 3   condition     51525 non-null  object \n",
      " 4   cylinders     46265 non-null  float64\n",
      " 5   fuel          51525 non-null  object \n",
      " 6   odometer      43633 non-null  float64\n",
      " 7   transmission  51525 non-null  object \n",
      " 8   type          51525 non-null  object \n",
      " 9   paint_color   42258 non-null  object \n",
      " 10  is_4wd        25572 non-null  float64\n",
      " 11  date_posted   51525 non-null  object \n",
      " 12  days_listed   51525 non-null  int64  \n",
      "dtypes: float64(4), int64(2), object(7)\n",
      "memory usage: 5.1+ MB\n"
     ]
    },
    {
     "data": {
      "text/plain": [
       "       price  model_year                    model  condition  cylinders fuel  \\\n",
       "17279  10650      2005.0            toyota tundra  excellent        8.0  gas   \n",
       "29586   3499      2000.0          ford expedition  excellent        8.0  gas   \n",
       "21383  11995      2012.0            ford explorer  excellent        6.0  gas   \n",
       "8072    2500      2006.0             honda accord       good        4.0  gas   \n",
       "41404  11995      2008.0              honda pilot   like new        6.0  gas   \n",
       "35692   5995      2003.0        cadillac escalade  excellent        8.0  gas   \n",
       "43771  14500      2009.0            toyota tacoma   like new        6.0  gas   \n",
       "19717  13500      2016.0  chrysler town & country   like new        6.0  gas   \n",
       "27117   5600      2010.0          subaru forester       good        4.0  gas   \n",
       "37778  19995      2012.0                 ram 1500  excellent        8.0  gas   \n",
       "\n",
       "       odometer transmission      type paint_color  is_4wd date_posted  \\\n",
       "17279       NaN    automatic    pickup         NaN     1.0  2019-03-26   \n",
       "29586  220100.0    automatic       SUV         NaN     NaN  2018-11-17   \n",
       "21383  121467.0    automatic     wagon       black     1.0  2018-08-23   \n",
       "8072   185482.0    automatic     sedan      silver     NaN  2018-05-05   \n",
       "41404   91000.0    automatic       SUV       black     1.0  2019-01-10   \n",
       "35692  169518.0    automatic       SUV         red     1.0  2018-05-02   \n",
       "43771  167000.0    automatic     truck      silver     1.0  2019-03-05   \n",
       "19717   78000.0    automatic  mini-van        grey     NaN  2019-03-26   \n",
       "27117  156000.0    automatic       SUV         NaN     NaN  2018-12-08   \n",
       "37778  124839.0    automatic    pickup       white     1.0  2018-07-12   \n",
       "\n",
       "       days_listed  \n",
       "17279           40  \n",
       "29586           20  \n",
       "21383           36  \n",
       "8072            16  \n",
       "41404            7  \n",
       "35692           19  \n",
       "43771           25  \n",
       "19717            6  \n",
       "27117           58  \n",
       "37778           53  "
      ],
      "text/html": [
       "<div>\n",
       "<style scoped>\n",
       "    .dataframe tbody tr th:only-of-type {\n",
       "        vertical-align: middle;\n",
       "    }\n",
       "\n",
       "    .dataframe tbody tr th {\n",
       "        vertical-align: top;\n",
       "    }\n",
       "\n",
       "    .dataframe thead th {\n",
       "        text-align: right;\n",
       "    }\n",
       "</style>\n",
       "<table border=\"1\" class=\"dataframe\">\n",
       "  <thead>\n",
       "    <tr style=\"text-align: right;\">\n",
       "      <th></th>\n",
       "      <th>price</th>\n",
       "      <th>model_year</th>\n",
       "      <th>model</th>\n",
       "      <th>condition</th>\n",
       "      <th>cylinders</th>\n",
       "      <th>fuel</th>\n",
       "      <th>odometer</th>\n",
       "      <th>transmission</th>\n",
       "      <th>type</th>\n",
       "      <th>paint_color</th>\n",
       "      <th>is_4wd</th>\n",
       "      <th>date_posted</th>\n",
       "      <th>days_listed</th>\n",
       "    </tr>\n",
       "  </thead>\n",
       "  <tbody>\n",
       "    <tr>\n",
       "      <th>17279</th>\n",
       "      <td>10650</td>\n",
       "      <td>2005.0</td>\n",
       "      <td>toyota tundra</td>\n",
       "      <td>excellent</td>\n",
       "      <td>8.0</td>\n",
       "      <td>gas</td>\n",
       "      <td>NaN</td>\n",
       "      <td>automatic</td>\n",
       "      <td>pickup</td>\n",
       "      <td>NaN</td>\n",
       "      <td>1.0</td>\n",
       "      <td>2019-03-26</td>\n",
       "      <td>40</td>\n",
       "    </tr>\n",
       "    <tr>\n",
       "      <th>29586</th>\n",
       "      <td>3499</td>\n",
       "      <td>2000.0</td>\n",
       "      <td>ford expedition</td>\n",
       "      <td>excellent</td>\n",
       "      <td>8.0</td>\n",
       "      <td>gas</td>\n",
       "      <td>220100.0</td>\n",
       "      <td>automatic</td>\n",
       "      <td>SUV</td>\n",
       "      <td>NaN</td>\n",
       "      <td>NaN</td>\n",
       "      <td>2018-11-17</td>\n",
       "      <td>20</td>\n",
       "    </tr>\n",
       "    <tr>\n",
       "      <th>21383</th>\n",
       "      <td>11995</td>\n",
       "      <td>2012.0</td>\n",
       "      <td>ford explorer</td>\n",
       "      <td>excellent</td>\n",
       "      <td>6.0</td>\n",
       "      <td>gas</td>\n",
       "      <td>121467.0</td>\n",
       "      <td>automatic</td>\n",
       "      <td>wagon</td>\n",
       "      <td>black</td>\n",
       "      <td>1.0</td>\n",
       "      <td>2018-08-23</td>\n",
       "      <td>36</td>\n",
       "    </tr>\n",
       "    <tr>\n",
       "      <th>8072</th>\n",
       "      <td>2500</td>\n",
       "      <td>2006.0</td>\n",
       "      <td>honda accord</td>\n",
       "      <td>good</td>\n",
       "      <td>4.0</td>\n",
       "      <td>gas</td>\n",
       "      <td>185482.0</td>\n",
       "      <td>automatic</td>\n",
       "      <td>sedan</td>\n",
       "      <td>silver</td>\n",
       "      <td>NaN</td>\n",
       "      <td>2018-05-05</td>\n",
       "      <td>16</td>\n",
       "    </tr>\n",
       "    <tr>\n",
       "      <th>41404</th>\n",
       "      <td>11995</td>\n",
       "      <td>2008.0</td>\n",
       "      <td>honda pilot</td>\n",
       "      <td>like new</td>\n",
       "      <td>6.0</td>\n",
       "      <td>gas</td>\n",
       "      <td>91000.0</td>\n",
       "      <td>automatic</td>\n",
       "      <td>SUV</td>\n",
       "      <td>black</td>\n",
       "      <td>1.0</td>\n",
       "      <td>2019-01-10</td>\n",
       "      <td>7</td>\n",
       "    </tr>\n",
       "    <tr>\n",
       "      <th>35692</th>\n",
       "      <td>5995</td>\n",
       "      <td>2003.0</td>\n",
       "      <td>cadillac escalade</td>\n",
       "      <td>excellent</td>\n",
       "      <td>8.0</td>\n",
       "      <td>gas</td>\n",
       "      <td>169518.0</td>\n",
       "      <td>automatic</td>\n",
       "      <td>SUV</td>\n",
       "      <td>red</td>\n",
       "      <td>1.0</td>\n",
       "      <td>2018-05-02</td>\n",
       "      <td>19</td>\n",
       "    </tr>\n",
       "    <tr>\n",
       "      <th>43771</th>\n",
       "      <td>14500</td>\n",
       "      <td>2009.0</td>\n",
       "      <td>toyota tacoma</td>\n",
       "      <td>like new</td>\n",
       "      <td>6.0</td>\n",
       "      <td>gas</td>\n",
       "      <td>167000.0</td>\n",
       "      <td>automatic</td>\n",
       "      <td>truck</td>\n",
       "      <td>silver</td>\n",
       "      <td>1.0</td>\n",
       "      <td>2019-03-05</td>\n",
       "      <td>25</td>\n",
       "    </tr>\n",
       "    <tr>\n",
       "      <th>19717</th>\n",
       "      <td>13500</td>\n",
       "      <td>2016.0</td>\n",
       "      <td>chrysler town &amp; country</td>\n",
       "      <td>like new</td>\n",
       "      <td>6.0</td>\n",
       "      <td>gas</td>\n",
       "      <td>78000.0</td>\n",
       "      <td>automatic</td>\n",
       "      <td>mini-van</td>\n",
       "      <td>grey</td>\n",
       "      <td>NaN</td>\n",
       "      <td>2019-03-26</td>\n",
       "      <td>6</td>\n",
       "    </tr>\n",
       "    <tr>\n",
       "      <th>27117</th>\n",
       "      <td>5600</td>\n",
       "      <td>2010.0</td>\n",
       "      <td>subaru forester</td>\n",
       "      <td>good</td>\n",
       "      <td>4.0</td>\n",
       "      <td>gas</td>\n",
       "      <td>156000.0</td>\n",
       "      <td>automatic</td>\n",
       "      <td>SUV</td>\n",
       "      <td>NaN</td>\n",
       "      <td>NaN</td>\n",
       "      <td>2018-12-08</td>\n",
       "      <td>58</td>\n",
       "    </tr>\n",
       "    <tr>\n",
       "      <th>37778</th>\n",
       "      <td>19995</td>\n",
       "      <td>2012.0</td>\n",
       "      <td>ram 1500</td>\n",
       "      <td>excellent</td>\n",
       "      <td>8.0</td>\n",
       "      <td>gas</td>\n",
       "      <td>124839.0</td>\n",
       "      <td>automatic</td>\n",
       "      <td>pickup</td>\n",
       "      <td>white</td>\n",
       "      <td>1.0</td>\n",
       "      <td>2018-07-12</td>\n",
       "      <td>53</td>\n",
       "    </tr>\n",
       "  </tbody>\n",
       "</table>\n",
       "</div>"
      ]
     },
     "execution_count": 25,
     "metadata": {},
     "output_type": "execute_result"
    }
   ],
   "execution_count": 25
  },
  {
   "metadata": {
    "ExecuteTime": {
     "end_time": "2024-07-26T01:45:50.277262Z",
     "start_time": "2024-07-26T01:45:50.212434Z"
    }
   },
   "cell_type": "code",
   "source": [
    "# check for duplicate rows\n",
    "print(vehicles_df.duplicated().sum())"
   ],
   "id": "9ae2655d2afcbfdd",
   "outputs": [
    {
     "name": "stdout",
     "output_type": "stream",
     "text": [
      "0\n"
     ]
    }
   ],
   "execution_count": 26
  },
  {
   "metadata": {
    "ExecuteTime": {
     "end_time": "2024-07-26T01:45:50.287598Z",
     "start_time": "2024-07-26T01:45:50.280272Z"
    }
   },
   "cell_type": "code",
   "source": [
    "# assuming that the NaN values in the 'is_4wd' column mean that the vehicle is not a 4-wheel drive, let's replace them with a 0.\n",
    "vehicles_df['is_4wd'] = vehicles_df['is_4wd'].fillna(0)"
   ],
   "id": "a8b124294c7afe44",
   "outputs": [],
   "execution_count": 27
  },
  {
   "metadata": {
    "ExecuteTime": {
     "end_time": "2024-07-26T01:45:50.351902Z",
     "start_time": "2024-07-26T01:45:50.314522Z"
    }
   },
   "cell_type": "code",
   "source": [
    "# drop the rest of the rows with missing values\n",
    "vehicles_df = vehicles_df.dropna().reset_index(drop=True)"
   ],
   "id": "3ef905d0d8f99153",
   "outputs": [],
   "execution_count": 29
  },
  {
   "metadata": {
    "ExecuteTime": {
     "end_time": "2024-07-26T01:48:12.998264Z",
     "start_time": "2024-07-26T01:48:12.959299Z"
    }
   },
   "cell_type": "code",
   "source": [
    "# convert float64 columns to int64\n",
    "vehicles_df['model_year'] = vehicles_df['model_year'].astype('int64')\n",
    "vehicles_df['cylinders'] = vehicles_df['cylinders'].astype('int64')\n",
    "vehicles_df['odometer'] = vehicles_df['odometer'].astype('int64')\n",
    "vehicles_df['is_4wd'] = vehicles_df['is_4wd'].astype('int64')\n",
    "\n",
    "# convert 'date_posted' column to datetime\n",
    "vehicles_df['date_posted'] = pd.to_datetime(vehicles_df['date_posted'])\n"
   ],
   "id": "77b10152989f3682",
   "outputs": [],
   "execution_count": 31
  },
  {
   "metadata": {
    "ExecuteTime": {
     "end_time": "2024-07-26T02:47:24.722955Z",
     "start_time": "2024-07-26T02:47:24.505889Z"
    }
   },
   "cell_type": "code",
   "source": "vehicles_df.to_csv('cleaned_vehicles.csv')",
   "id": "f2e92feb0a4c4ded",
   "outputs": [],
   "execution_count": 53
  },
  {
   "metadata": {},
   "cell_type": "markdown",
   "source": "Now that the dataframe is cleaned, let's write the code for the web app.",
   "id": "99e311afdb39f1b6"
  },
  {
   "metadata": {
    "ExecuteTime": {
     "end_time": "2024-07-26T02:44:44.572159Z",
     "start_time": "2024-07-26T02:44:42.711372Z"
    }
   },
   "cell_type": "code",
   "source": [
    "# set title\n",
    "st.title('Vehicle Data Analysis')\n",
    "\n",
    "# make scatter plot\n",
    "st.header('Price vs Odometer Value')\n",
    "\n",
    "# set checkbox\n",
    "show_condition_color = st.checkbox('Color by Condition')\n",
    "\n",
    "if show_condition_color:\n",
    "    scatter_fig = px.scatter(vehicles_df, x='odometer', y='price', color='condition',\n",
    "                             title='Price vs Odometer Value (Colored by Condition)',\n",
    "                             labels={'odometer': 'Odometer (miles)', 'price': 'Price (USD)', 'condition': 'Condition'})\n",
    "else:\n",
    "    scatter_fig = px.scatter(vehicles_df, x='odometer', y='price',\n",
    "                             title='Price vs Odometer Value',\n",
    "                             labels={'odometer': 'Odometer (miles)', 'price': 'Price (USD)'})\n",
    "\n",
    "st.plotly_chart(scatter_fig)\n",
    "\n",
    "# make histogram\n",
    "st.header('Distribution of Vehicle Conditions')\n",
    "\n",
    "hist_fig = px.histogram(vehicles_df, x='condition', title='Vehicle Condition Distribution',\n",
    "                        labels={'condition': 'Condition', 'count': 'Count'})\n",
    "\n",
    "st.plotly_chart(hist_fig)"
   ],
   "id": "953364259688606a",
   "outputs": [
    {
     "name": "stderr",
     "output_type": "stream",
     "text": [
      "2024-07-25 19:44:44.312 \n",
      "  \u001B[33m\u001B[1mWarning:\u001B[0m to view this Streamlit app on a browser, run it with the following\n",
      "  command:\n",
      "\n",
      "    streamlit run C:\\Users\\Tyler Wilson\\miniconda3\\Lib\\site-packages\\ipykernel_launcher.py [ARGUMENTS]\n"
     ]
    },
    {
     "data": {
      "text/plain": [
       "DeltaGenerator()"
      ]
     },
     "execution_count": 50,
     "metadata": {},
     "output_type": "execute_result"
    }
   ],
   "execution_count": 50
  }
 ],
 "metadata": {
  "kernelspec": {
   "display_name": "Python 3",
   "language": "python",
   "name": "python3"
  },
  "language_info": {
   "codemirror_mode": {
    "name": "ipython",
    "version": 2
   },
   "file_extension": ".py",
   "mimetype": "text/x-python",
   "name": "python",
   "nbconvert_exporter": "python",
   "pygments_lexer": "ipython2",
   "version": "2.7.6"
  }
 },
 "nbformat": 4,
 "nbformat_minor": 5
}
